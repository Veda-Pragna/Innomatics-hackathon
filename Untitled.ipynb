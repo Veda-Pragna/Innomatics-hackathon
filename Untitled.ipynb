{
 "cells": [
  {
   "cell_type": "code",
   "execution_count": 1,
   "id": "e02c981a",
   "metadata": {},
   "outputs": [],
   "source": [
    "#libraries\n",
    "import pandas as pd\n",
    "import matplotlib.pyplot as plt"
   ]
  },
  {
   "cell_type": "code",
   "execution_count": 2,
   "id": "ff9423a6",
   "metadata": {},
   "outputs": [],
   "source": [
    "#loading data sets\n",
    "mov_df=pd.read_csv(\"C:\\\\Users\\\\vedap\\\\Desktop\\\\movies.csv\")\n",
    "rat_df=pd.read_csv(\"C:\\\\Users\\\\vedap\\\\Desktop\\\\ratings.csv\")\n",
    "tag_df=pd.read_csv(\"C:\\\\Users\\\\vedap\\\\Desktop\\\\tags.csv\")\n",
    "lin_df=pd.read_csv(\"C:\\\\Users\\\\vedap\\\\Desktop\\\\links.csv\")"
   ]
  },
  {
   "cell_type": "code",
   "execution_count": 3,
   "id": "809d673e",
   "metadata": {},
   "outputs": [
    {
     "data": {
      "text/plain": [
       "(9742, 3)"
      ]
     },
     "execution_count": 3,
     "metadata": {},
     "output_type": "execute_result"
    }
   ],
   "source": [
    "mov_df.shape"
   ]
  },
  {
   "cell_type": "code",
   "execution_count": 4,
   "id": "f97fa9ae",
   "metadata": {},
   "outputs": [
    {
     "data": {
      "text/plain": [
       "(100836, 4)"
      ]
     },
     "execution_count": 4,
     "metadata": {},
     "output_type": "execute_result"
    }
   ],
   "source": [
    "rat_df.shape"
   ]
  },
  {
   "cell_type": "code",
   "execution_count": 5,
   "id": "89b42be5",
   "metadata": {},
   "outputs": [
    {
     "data": {
      "text/html": [
       "<div>\n",
       "<style scoped>\n",
       "    .dataframe tbody tr th:only-of-type {\n",
       "        vertical-align: middle;\n",
       "    }\n",
       "\n",
       "    .dataframe tbody tr th {\n",
       "        vertical-align: top;\n",
       "    }\n",
       "\n",
       "    .dataframe thead th {\n",
       "        text-align: right;\n",
       "    }\n",
       "</style>\n",
       "<table border=\"1\" class=\"dataframe\">\n",
       "  <thead>\n",
       "    <tr style=\"text-align: right;\">\n",
       "      <th></th>\n",
       "      <th>userId</th>\n",
       "      <th>movieId</th>\n",
       "      <th>rating</th>\n",
       "      <th>timestamp</th>\n",
       "    </tr>\n",
       "  </thead>\n",
       "  <tbody>\n",
       "    <tr>\n",
       "      <th>0</th>\n",
       "      <td>1</td>\n",
       "      <td>1</td>\n",
       "      <td>4.0</td>\n",
       "      <td>964982703</td>\n",
       "    </tr>\n",
       "    <tr>\n",
       "      <th>1</th>\n",
       "      <td>1</td>\n",
       "      <td>3</td>\n",
       "      <td>4.0</td>\n",
       "      <td>964981247</td>\n",
       "    </tr>\n",
       "    <tr>\n",
       "      <th>2</th>\n",
       "      <td>1</td>\n",
       "      <td>6</td>\n",
       "      <td>4.0</td>\n",
       "      <td>964982224</td>\n",
       "    </tr>\n",
       "    <tr>\n",
       "      <th>3</th>\n",
       "      <td>1</td>\n",
       "      <td>47</td>\n",
       "      <td>5.0</td>\n",
       "      <td>964983815</td>\n",
       "    </tr>\n",
       "    <tr>\n",
       "      <th>4</th>\n",
       "      <td>1</td>\n",
       "      <td>50</td>\n",
       "      <td>5.0</td>\n",
       "      <td>964982931</td>\n",
       "    </tr>\n",
       "  </tbody>\n",
       "</table>\n",
       "</div>"
      ],
      "text/plain": [
       "   userId  movieId  rating  timestamp\n",
       "0       1        1     4.0  964982703\n",
       "1       1        3     4.0  964981247\n",
       "2       1        6     4.0  964982224\n",
       "3       1       47     5.0  964983815\n",
       "4       1       50     5.0  964982931"
      ]
     },
     "execution_count": 5,
     "metadata": {},
     "output_type": "execute_result"
    }
   ],
   "source": [
    "rat_df.head()"
   ]
  },
  {
   "cell_type": "code",
   "execution_count": 6,
   "id": "5c50fe0f",
   "metadata": {},
   "outputs": [
    {
     "name": "stdout",
     "output_type": "stream",
     "text": [
      "610\n"
     ]
    }
   ],
   "source": [
    "print(rat_df['userId'].nunique())"
   ]
  },
  {
   "cell_type": "code",
   "execution_count": 7,
   "id": "eac7fed7",
   "metadata": {},
   "outputs": [
    {
     "data": {
      "text/html": [
       "<div>\n",
       "<style scoped>\n",
       "    .dataframe tbody tr th:only-of-type {\n",
       "        vertical-align: middle;\n",
       "    }\n",
       "\n",
       "    .dataframe tbody tr th {\n",
       "        vertical-align: top;\n",
       "    }\n",
       "\n",
       "    .dataframe thead th {\n",
       "        text-align: right;\n",
       "    }\n",
       "</style>\n",
       "<table border=\"1\" class=\"dataframe\">\n",
       "  <thead>\n",
       "    <tr style=\"text-align: right;\">\n",
       "      <th></th>\n",
       "      <th>movieId</th>\n",
       "      <th>title</th>\n",
       "      <th>genres</th>\n",
       "    </tr>\n",
       "  </thead>\n",
       "  <tbody>\n",
       "    <tr>\n",
       "      <th>9737</th>\n",
       "      <td>193581</td>\n",
       "      <td>Black Butler: Book of the Atlantic (2017)</td>\n",
       "      <td>Action|Animation|Comedy|Fantasy</td>\n",
       "    </tr>\n",
       "    <tr>\n",
       "      <th>9738</th>\n",
       "      <td>193583</td>\n",
       "      <td>No Game No Life: Zero (2017)</td>\n",
       "      <td>Animation|Comedy|Fantasy</td>\n",
       "    </tr>\n",
       "    <tr>\n",
       "      <th>9739</th>\n",
       "      <td>193585</td>\n",
       "      <td>Flint (2017)</td>\n",
       "      <td>Drama</td>\n",
       "    </tr>\n",
       "    <tr>\n",
       "      <th>9740</th>\n",
       "      <td>193587</td>\n",
       "      <td>Bungo Stray Dogs: Dead Apple (2018)</td>\n",
       "      <td>Action|Animation</td>\n",
       "    </tr>\n",
       "    <tr>\n",
       "      <th>9741</th>\n",
       "      <td>193609</td>\n",
       "      <td>Andrew Dice Clay: Dice Rules (1991)</td>\n",
       "      <td>Comedy</td>\n",
       "    </tr>\n",
       "  </tbody>\n",
       "</table>\n",
       "</div>"
      ],
      "text/plain": [
       "      movieId                                      title  \\\n",
       "9737   193581  Black Butler: Book of the Atlantic (2017)   \n",
       "9738   193583               No Game No Life: Zero (2017)   \n",
       "9739   193585                               Flint (2017)   \n",
       "9740   193587        Bungo Stray Dogs: Dead Apple (2018)   \n",
       "9741   193609        Andrew Dice Clay: Dice Rules (1991)   \n",
       "\n",
       "                               genres  \n",
       "9737  Action|Animation|Comedy|Fantasy  \n",
       "9738         Animation|Comedy|Fantasy  \n",
       "9739                            Drama  \n",
       "9740                 Action|Animation  \n",
       "9741                           Comedy  "
      ]
     },
     "execution_count": 7,
     "metadata": {},
     "output_type": "execute_result"
    }
   ],
   "source": [
    "mov_df.head()\n",
    "mov_df.tail()"
   ]
  },
  {
   "cell_type": "code",
   "execution_count": 8,
   "id": "565ec6e5",
   "metadata": {},
   "outputs": [
    {
     "data": {
      "text/html": [
       "<div>\n",
       "<style scoped>\n",
       "    .dataframe tbody tr th:only-of-type {\n",
       "        vertical-align: middle;\n",
       "    }\n",
       "\n",
       "    .dataframe tbody tr th {\n",
       "        vertical-align: top;\n",
       "    }\n",
       "\n",
       "    .dataframe thead th {\n",
       "        text-align: right;\n",
       "    }\n",
       "</style>\n",
       "<table border=\"1\" class=\"dataframe\">\n",
       "  <thead>\n",
       "    <tr style=\"text-align: right;\">\n",
       "      <th></th>\n",
       "      <th>userId</th>\n",
       "      <th>movieId</th>\n",
       "      <th>tag</th>\n",
       "      <th>timestamp</th>\n",
       "    </tr>\n",
       "  </thead>\n",
       "  <tbody>\n",
       "    <tr>\n",
       "      <th>0</th>\n",
       "      <td>2</td>\n",
       "      <td>60756</td>\n",
       "      <td>funny</td>\n",
       "      <td>1445714994</td>\n",
       "    </tr>\n",
       "    <tr>\n",
       "      <th>1</th>\n",
       "      <td>2</td>\n",
       "      <td>60756</td>\n",
       "      <td>Highly quotable</td>\n",
       "      <td>1445714996</td>\n",
       "    </tr>\n",
       "    <tr>\n",
       "      <th>2</th>\n",
       "      <td>2</td>\n",
       "      <td>60756</td>\n",
       "      <td>will ferrell</td>\n",
       "      <td>1445714992</td>\n",
       "    </tr>\n",
       "    <tr>\n",
       "      <th>3</th>\n",
       "      <td>2</td>\n",
       "      <td>89774</td>\n",
       "      <td>Boxing story</td>\n",
       "      <td>1445715207</td>\n",
       "    </tr>\n",
       "    <tr>\n",
       "      <th>4</th>\n",
       "      <td>2</td>\n",
       "      <td>89774</td>\n",
       "      <td>MMA</td>\n",
       "      <td>1445715200</td>\n",
       "    </tr>\n",
       "  </tbody>\n",
       "</table>\n",
       "</div>"
      ],
      "text/plain": [
       "   userId  movieId              tag   timestamp\n",
       "0       2    60756            funny  1445714994\n",
       "1       2    60756  Highly quotable  1445714996\n",
       "2       2    60756     will ferrell  1445714992\n",
       "3       2    89774     Boxing story  1445715207\n",
       "4       2    89774              MMA  1445715200"
      ]
     },
     "execution_count": 8,
     "metadata": {},
     "output_type": "execute_result"
    }
   ],
   "source": [
    "tag_df.head()"
   ]
  },
  {
   "cell_type": "code",
   "execution_count": 9,
   "id": "a2ffe298",
   "metadata": {},
   "outputs": [
    {
     "data": {
      "text/html": [
       "<div>\n",
       "<style scoped>\n",
       "    .dataframe tbody tr th:only-of-type {\n",
       "        vertical-align: middle;\n",
       "    }\n",
       "\n",
       "    .dataframe tbody tr th {\n",
       "        vertical-align: top;\n",
       "    }\n",
       "\n",
       "    .dataframe thead th {\n",
       "        text-align: right;\n",
       "    }\n",
       "</style>\n",
       "<table border=\"1\" class=\"dataframe\">\n",
       "  <thead>\n",
       "    <tr style=\"text-align: right;\">\n",
       "      <th></th>\n",
       "      <th>movieId</th>\n",
       "      <th>imdbId</th>\n",
       "      <th>tmdbId</th>\n",
       "    </tr>\n",
       "  </thead>\n",
       "  <tbody>\n",
       "    <tr>\n",
       "      <th>0</th>\n",
       "      <td>1</td>\n",
       "      <td>114709</td>\n",
       "      <td>862.0</td>\n",
       "    </tr>\n",
       "    <tr>\n",
       "      <th>1</th>\n",
       "      <td>2</td>\n",
       "      <td>113497</td>\n",
       "      <td>8844.0</td>\n",
       "    </tr>\n",
       "    <tr>\n",
       "      <th>2</th>\n",
       "      <td>3</td>\n",
       "      <td>113228</td>\n",
       "      <td>15602.0</td>\n",
       "    </tr>\n",
       "    <tr>\n",
       "      <th>3</th>\n",
       "      <td>4</td>\n",
       "      <td>114885</td>\n",
       "      <td>31357.0</td>\n",
       "    </tr>\n",
       "    <tr>\n",
       "      <th>4</th>\n",
       "      <td>5</td>\n",
       "      <td>113041</td>\n",
       "      <td>11862.0</td>\n",
       "    </tr>\n",
       "  </tbody>\n",
       "</table>\n",
       "</div>"
      ],
      "text/plain": [
       "   movieId  imdbId   tmdbId\n",
       "0        1  114709    862.0\n",
       "1        2  113497   8844.0\n",
       "2        3  113228  15602.0\n",
       "3        4  114885  31357.0\n",
       "4        5  113041  11862.0"
      ]
     },
     "execution_count": 9,
     "metadata": {},
     "output_type": "execute_result"
    }
   ],
   "source": [
    "lin_df.head()"
   ]
  },
  {
   "cell_type": "code",
   "execution_count": 10,
   "id": "59bc0f02",
   "metadata": {},
   "outputs": [
    {
     "name": "stdout",
     "output_type": "stream",
     "text": [
      "movieId                              356\n",
      "number of ratings                    329\n",
      "title                Forrest Gump (1994)\n",
      "Name: 314, dtype: object\n"
     ]
    }
   ],
   "source": [
    "df=(rat_df.groupby('movieId')['rating'].count()).reset_index(name='number of ratings')\n",
    "mov=mov_df.drop(['genres'],axis=1)\n",
    "df=pd.merge(df,mov,on='movieId')\n",
    "df=df.sort_values(by='number of ratings',ascending=False)\n",
    "print(df.iloc[0])"
   ]
  },
  {
   "cell_type": "code",
   "execution_count": 11,
   "id": "b90a04fc",
   "metadata": {},
   "outputs": [
    {
     "data": {
      "text/html": [
       "<div>\n",
       "<style scoped>\n",
       "    .dataframe tbody tr th:only-of-type {\n",
       "        vertical-align: middle;\n",
       "    }\n",
       "\n",
       "    .dataframe tbody tr th {\n",
       "        vertical-align: top;\n",
       "    }\n",
       "\n",
       "    .dataframe thead th {\n",
       "        text-align: right;\n",
       "    }\n",
       "</style>\n",
       "<table border=\"1\" class=\"dataframe\">\n",
       "  <thead>\n",
       "    <tr style=\"text-align: right;\">\n",
       "      <th></th>\n",
       "      <th>userId</th>\n",
       "      <th>movieId</th>\n",
       "      <th>tag</th>\n",
       "      <th>timestamp</th>\n",
       "    </tr>\n",
       "  </thead>\n",
       "  <tbody>\n",
       "    <tr>\n",
       "      <th>0</th>\n",
       "      <td>2</td>\n",
       "      <td>60756</td>\n",
       "      <td>funny</td>\n",
       "      <td>1445714994</td>\n",
       "    </tr>\n",
       "    <tr>\n",
       "      <th>1</th>\n",
       "      <td>2</td>\n",
       "      <td>60756</td>\n",
       "      <td>Highly quotable</td>\n",
       "      <td>1445714996</td>\n",
       "    </tr>\n",
       "    <tr>\n",
       "      <th>2</th>\n",
       "      <td>2</td>\n",
       "      <td>60756</td>\n",
       "      <td>will ferrell</td>\n",
       "      <td>1445714992</td>\n",
       "    </tr>\n",
       "    <tr>\n",
       "      <th>3</th>\n",
       "      <td>2</td>\n",
       "      <td>89774</td>\n",
       "      <td>Boxing story</td>\n",
       "      <td>1445715207</td>\n",
       "    </tr>\n",
       "    <tr>\n",
       "      <th>4</th>\n",
       "      <td>2</td>\n",
       "      <td>89774</td>\n",
       "      <td>MMA</td>\n",
       "      <td>1445715200</td>\n",
       "    </tr>\n",
       "  </tbody>\n",
       "</table>\n",
       "</div>"
      ],
      "text/plain": [
       "   userId  movieId              tag   timestamp\n",
       "0       2    60756            funny  1445714994\n",
       "1       2    60756  Highly quotable  1445714996\n",
       "2       2    60756     will ferrell  1445714992\n",
       "3       2    89774     Boxing story  1445715207\n",
       "4       2    89774              MMA  1445715200"
      ]
     },
     "execution_count": 11,
     "metadata": {},
     "output_type": "execute_result"
    }
   ],
   "source": [
    "tag_df.head()"
   ]
  },
  {
   "cell_type": "code",
   "execution_count": 12,
   "id": "985c5bfa",
   "metadata": {},
   "outputs": [],
   "source": [
    "ta=tag_df.drop(['userId','timestamp'],axis=1)\n",
    "df=pd.merge(df,ta,on='movieId')\n",
    "df=df.groupby(['movieId','number of ratings','title'])['tag'].agg(','.join).reset_index()"
   ]
  },
  {
   "cell_type": "code",
   "execution_count": 13,
   "id": "765ed4cd",
   "metadata": {},
   "outputs": [
    {
     "data": {
      "text/html": [
       "<div>\n",
       "<style scoped>\n",
       "    .dataframe tbody tr th:only-of-type {\n",
       "        vertical-align: middle;\n",
       "    }\n",
       "\n",
       "    .dataframe tbody tr th {\n",
       "        vertical-align: top;\n",
       "    }\n",
       "\n",
       "    .dataframe thead th {\n",
       "        text-align: right;\n",
       "    }\n",
       "</style>\n",
       "<table border=\"1\" class=\"dataframe\">\n",
       "  <thead>\n",
       "    <tr style=\"text-align: right;\">\n",
       "      <th></th>\n",
       "      <th>movieId</th>\n",
       "      <th>number of ratings</th>\n",
       "      <th>title</th>\n",
       "      <th>tag</th>\n",
       "    </tr>\n",
       "  </thead>\n",
       "  <tbody>\n",
       "    <tr>\n",
       "      <th>0</th>\n",
       "      <td>1</td>\n",
       "      <td>215</td>\n",
       "      <td>Toy Story (1995)</td>\n",
       "      <td>pixar,pixar,fun</td>\n",
       "    </tr>\n",
       "    <tr>\n",
       "      <th>1</th>\n",
       "      <td>2</td>\n",
       "      <td>110</td>\n",
       "      <td>Jumanji (1995)</td>\n",
       "      <td>fantasy,magic board game,Robin Williams,game</td>\n",
       "    </tr>\n",
       "    <tr>\n",
       "      <th>2</th>\n",
       "      <td>3</td>\n",
       "      <td>52</td>\n",
       "      <td>Grumpier Old Men (1995)</td>\n",
       "      <td>moldy,old</td>\n",
       "    </tr>\n",
       "    <tr>\n",
       "      <th>3</th>\n",
       "      <td>5</td>\n",
       "      <td>49</td>\n",
       "      <td>Father of the Bride Part II (1995)</td>\n",
       "      <td>pregnancy,remake</td>\n",
       "    </tr>\n",
       "    <tr>\n",
       "      <th>4</th>\n",
       "      <td>7</td>\n",
       "      <td>54</td>\n",
       "      <td>Sabrina (1995)</td>\n",
       "      <td>remake</td>\n",
       "    </tr>\n",
       "  </tbody>\n",
       "</table>\n",
       "</div>"
      ],
      "text/plain": [
       "   movieId  number of ratings                               title  \\\n",
       "0        1                215                    Toy Story (1995)   \n",
       "1        2                110                      Jumanji (1995)   \n",
       "2        3                 52             Grumpier Old Men (1995)   \n",
       "3        5                 49  Father of the Bride Part II (1995)   \n",
       "4        7                 54                      Sabrina (1995)   \n",
       "\n",
       "                                            tag  \n",
       "0                               pixar,pixar,fun  \n",
       "1  fantasy,magic board game,Robin Williams,game  \n",
       "2                                     moldy,old  \n",
       "3                              pregnancy,remake  \n",
       "4                                        remake  "
      ]
     },
     "execution_count": 13,
     "metadata": {},
     "output_type": "execute_result"
    }
   ],
   "source": [
    "df.head()"
   ]
  },
  {
   "cell_type": "code",
   "execution_count": 14,
   "id": "3595daa5",
   "metadata": {},
   "outputs": [
    {
     "name": "stdout",
     "output_type": "stream",
     "text": [
      "577    martial arts,sci-fi,alternate universe,philoso...\n",
      "Name: tag, dtype: object\n"
     ]
    }
   ],
   "source": [
    "x=df[df['title']=='Matrix, The (1999)']\n",
    "print(x['tag'])"
   ]
  },
  {
   "cell_type": "code",
   "execution_count": 15,
   "id": "a6896799",
   "metadata": {},
   "outputs": [
    {
     "data": {
      "text/plain": [
       "143    3.970982\n",
       "Name: avg rating, dtype: float64"
      ]
     },
     "execution_count": 15,
     "metadata": {},
     "output_type": "execute_result"
    }
   ],
   "source": [
    "ra=rat_df.groupby('movieId')['rating'].mean().reset_index(name='avg rating')\n",
    "df=pd.merge(df,ra,on='movieId')\n",
    "df=df.groupby(['movieId','number of ratings','title','avg rating'])['tag'].agg(','.join).reset_index()\n",
    "y=df[df['title']=='Terminator 2: Judgment Day (1991)']\n",
    "y['avg rating']"
   ]
  },
  {
   "cell_type": "code",
   "execution_count": 16,
   "id": "ec39c93e",
   "metadata": {},
   "outputs": [],
   "source": [
    "rat=pd.merge(rat_df,mov_df,on='movieId')\n",
    "z=rat['rating'][rat['title']=='Fight Club (1999)']"
   ]
  },
  {
   "cell_type": "code",
   "execution_count": 17,
   "id": "1587dacc",
   "metadata": {},
   "outputs": [
    {
     "data": {
      "text/plain": [
       "{'whiskers': [<matplotlib.lines.Line2D at 0x197bc0801c0>,\n",
       "  <matplotlib.lines.Line2D at 0x197bc080490>],\n",
       " 'caps': [<matplotlib.lines.Line2D at 0x197bc080760>,\n",
       "  <matplotlib.lines.Line2D at 0x197bc080a30>],\n",
       " 'boxes': [<matplotlib.lines.Line2D at 0x197bc063eb0>],\n",
       " 'medians': [<matplotlib.lines.Line2D at 0x197bc080d00>],\n",
       " 'fliers': [<matplotlib.lines.Line2D at 0x197bc080fd0>],\n",
       " 'means': []}"
      ]
     },
     "execution_count": 17,
     "metadata": {},
     "output_type": "execute_result"
    },
    {
     "data": {
      "image/png": "[encoded data removed]",
      "text/plain": [
       "<Figure size 640x480 with 1 Axes>"
      ]
     },
     "metadata": {},
     "output_type": "display_data"
    }
   ],
   "source": [
    "plt.boxplot(z)"
   ]
  },
  {
   "cell_type": "code",
   "execution_count": 18,
   "id": "641d8427",
   "metadata": {},
   "outputs": [
    {
     "data": {
      "text/plain": [
       "{'bodies': [<matplotlib.collections.PolyCollection at 0x197bc95b9d0>],\n",
       " 'cmaxes': <matplotlib.collections.LineCollection at 0x197bc95b940>,\n",
       " 'cmins': <matplotlib.collections.LineCollection at 0x197bc9740d0>,\n",
       " 'cbars': <matplotlib.collections.LineCollection at 0x197bc974490>}"
      ]
     },
     "execution_count": 18,
     "metadata": {},
     "output_type": "execute_result"
    },
    {
     "data": {
      "image/png": "[encoded data removed]",
      "text/plain": [
       "<Figure size 640x480 with 1 Axes>"
      ]
     },
     "metadata": {},
     "output_type": "display_data"
    }
   ],
   "source": [
    "plt.violinplot(z)"
   ]
  },
  {
   "cell_type": "code",
   "execution_count": 19,
   "id": "3a1c7130",
   "metadata": {},
   "outputs": [
    {
     "data": {
      "text/html": [
       "<div>\n",
       "<style scoped>\n",
       "    .dataframe tbody tr th:only-of-type {\n",
       "        vertical-align: middle;\n",
       "    }\n",
       "\n",
       "    .dataframe tbody tr th {\n",
       "        vertical-align: top;\n",
       "    }\n",
       "\n",
       "    .dataframe thead th {\n",
       "        text-align: right;\n",
       "    }\n",
       "</style>\n",
       "<table border=\"1\" class=\"dataframe\">\n",
       "  <thead>\n",
       "    <tr style=\"text-align: right;\">\n",
       "      <th></th>\n",
       "      <th>movieId</th>\n",
       "      <th>number of ratings</th>\n",
       "      <th>title</th>\n",
       "      <th>avg rating</th>\n",
       "      <th>tag</th>\n",
       "    </tr>\n",
       "  </thead>\n",
       "  <tbody>\n",
       "    <tr>\n",
       "      <th>0</th>\n",
       "      <td>1</td>\n",
       "      <td>215</td>\n",
       "      <td>Toy Story (1995)</td>\n",
       "      <td>3.920930</td>\n",
       "      <td>pixar,pixar,fun</td>\n",
       "    </tr>\n",
       "    <tr>\n",
       "      <th>1</th>\n",
       "      <td>2</td>\n",
       "      <td>110</td>\n",
       "      <td>Jumanji (1995)</td>\n",
       "      <td>3.431818</td>\n",
       "      <td>fantasy,magic board game,Robin Williams,game</td>\n",
       "    </tr>\n",
       "    <tr>\n",
       "      <th>2</th>\n",
       "      <td>3</td>\n",
       "      <td>52</td>\n",
       "      <td>Grumpier Old Men (1995)</td>\n",
       "      <td>3.259615</td>\n",
       "      <td>moldy,old</td>\n",
       "    </tr>\n",
       "    <tr>\n",
       "      <th>3</th>\n",
       "      <td>5</td>\n",
       "      <td>49</td>\n",
       "      <td>Father of the Bride Part II (1995)</td>\n",
       "      <td>3.071429</td>\n",
       "      <td>pregnancy,remake</td>\n",
       "    </tr>\n",
       "    <tr>\n",
       "      <th>4</th>\n",
       "      <td>7</td>\n",
       "      <td>54</td>\n",
       "      <td>Sabrina (1995)</td>\n",
       "      <td>3.185185</td>\n",
       "      <td>remake</td>\n",
       "    </tr>\n",
       "  </tbody>\n",
       "</table>\n",
       "</div>"
      ],
      "text/plain": [
       "   movieId  number of ratings                               title  avg rating  \\\n",
       "0        1                215                    Toy Story (1995)    3.920930   \n",
       "1        2                110                      Jumanji (1995)    3.431818   \n",
       "2        3                 52             Grumpier Old Men (1995)    3.259615   \n",
       "3        5                 49  Father of the Bride Part II (1995)    3.071429   \n",
       "4        7                 54                      Sabrina (1995)    3.185185   \n",
       "\n",
       "                                            tag  \n",
       "0                               pixar,pixar,fun  \n",
       "1  fantasy,magic board game,Robin Williams,game  \n",
       "2                                     moldy,old  \n",
       "3                              pregnancy,remake  \n",
       "4                                        remake  "
      ]
     },
     "execution_count": 19,
     "metadata": {},
     "output_type": "execute_result"
    }
   ],
   "source": [
    "df.head()"
   ]
  },
  {
   "cell_type": "code",
   "execution_count": 20,
   "id": "d35e672a",
   "metadata": {},
   "outputs": [
    {
     "data": {
      "text/html": [
       "<div>\n",
       "<style scoped>\n",
       "    .dataframe tbody tr th:only-of-type {\n",
       "        vertical-align: middle;\n",
       "    }\n",
       "\n",
       "    .dataframe tbody tr th {\n",
       "        vertical-align: top;\n",
       "    }\n",
       "\n",
       "    .dataframe thead th {\n",
       "        text-align: right;\n",
       "    }\n",
       "</style>\n",
       "<table border=\"1\" class=\"dataframe\">\n",
       "  <thead>\n",
       "    <tr style=\"text-align: right;\">\n",
       "      <th></th>\n",
       "      <th>movieId</th>\n",
       "      <th>imdbId</th>\n",
       "      <th>tmdbId</th>\n",
       "    </tr>\n",
       "  </thead>\n",
       "  <tbody>\n",
       "    <tr>\n",
       "      <th>0</th>\n",
       "      <td>1</td>\n",
       "      <td>114709</td>\n",
       "      <td>862.0</td>\n",
       "    </tr>\n",
       "    <tr>\n",
       "      <th>1</th>\n",
       "      <td>2</td>\n",
       "      <td>113497</td>\n",
       "      <td>8844.0</td>\n",
       "    </tr>\n",
       "    <tr>\n",
       "      <th>2</th>\n",
       "      <td>3</td>\n",
       "      <td>113228</td>\n",
       "      <td>15602.0</td>\n",
       "    </tr>\n",
       "    <tr>\n",
       "      <th>3</th>\n",
       "      <td>4</td>\n",
       "      <td>114885</td>\n",
       "      <td>31357.0</td>\n",
       "    </tr>\n",
       "    <tr>\n",
       "      <th>4</th>\n",
       "      <td>5</td>\n",
       "      <td>113041</td>\n",
       "      <td>11862.0</td>\n",
       "    </tr>\n",
       "  </tbody>\n",
       "</table>\n",
       "</div>"
      ],
      "text/plain": [
       "   movieId  imdbId   tmdbId\n",
       "0        1  114709    862.0\n",
       "1        2  113497   8844.0\n",
       "2        3  113228  15602.0\n",
       "3        4  114885  31357.0\n",
       "4        5  113041  11862.0"
      ]
     },
     "execution_count": 20,
     "metadata": {},
     "output_type": "execute_result"
    }
   ],
   "source": [
    "lin_df.head()"
   ]
  },
  {
   "cell_type": "code",
   "execution_count": 22,
   "id": "e2d884db",
   "metadata": {},
   "outputs": [
    {
     "data": {
      "text/html": [
       "<div>\n",
       "<style scoped>\n",
       "    .dataframe tbody tr th:only-of-type {\n",
       "        vertical-align: middle;\n",
       "    }\n",
       "\n",
       "    .dataframe tbody tr th {\n",
       "        vertical-align: top;\n",
       "    }\n",
       "\n",
       "    .dataframe thead th {\n",
       "        text-align: right;\n",
       "    }\n",
       "</style>\n",
       "<table border=\"1\" class=\"dataframe\">\n",
       "  <thead>\n",
       "    <tr style=\"text-align: right;\">\n",
       "      <th></th>\n",
       "      <th>movieId</th>\n",
       "      <th>number of ratings</th>\n",
       "      <th>title</th>\n",
       "      <th>avg rating</th>\n",
       "      <th>tag</th>\n",
       "      <th>imdbId</th>\n",
       "    </tr>\n",
       "  </thead>\n",
       "  <tbody>\n",
       "    <tr>\n",
       "      <th>0</th>\n",
       "      <td>1</td>\n",
       "      <td>215</td>\n",
       "      <td>Toy Story (1995)</td>\n",
       "      <td>3.920930</td>\n",
       "      <td>pixar,pixar,fun</td>\n",
       "      <td>114709</td>\n",
       "    </tr>\n",
       "    <tr>\n",
       "      <th>1</th>\n",
       "      <td>2</td>\n",
       "      <td>110</td>\n",
       "      <td>Jumanji (1995)</td>\n",
       "      <td>3.431818</td>\n",
       "      <td>fantasy,magic board game,Robin Williams,game</td>\n",
       "      <td>113497</td>\n",
       "    </tr>\n",
       "    <tr>\n",
       "      <th>2</th>\n",
       "      <td>3</td>\n",
       "      <td>52</td>\n",
       "      <td>Grumpier Old Men (1995)</td>\n",
       "      <td>3.259615</td>\n",
       "      <td>moldy,old</td>\n",
       "      <td>113228</td>\n",
       "    </tr>\n",
       "    <tr>\n",
       "      <th>3</th>\n",
       "      <td>5</td>\n",
       "      <td>49</td>\n",
       "      <td>Father of the Bride Part II (1995)</td>\n",
       "      <td>3.071429</td>\n",
       "      <td>pregnancy,remake</td>\n",
       "      <td>113041</td>\n",
       "    </tr>\n",
       "    <tr>\n",
       "      <th>4</th>\n",
       "      <td>7</td>\n",
       "      <td>54</td>\n",
       "      <td>Sabrina (1995)</td>\n",
       "      <td>3.185185</td>\n",
       "      <td>remake</td>\n",
       "      <td>114319</td>\n",
       "    </tr>\n",
       "  </tbody>\n",
       "</table>\n",
       "</div>"
      ],
      "text/plain": [
       "   movieId  number of ratings                               title  avg rating  \\\n",
       "0        1                215                    Toy Story (1995)    3.920930   \n",
       "1        2                110                      Jumanji (1995)    3.431818   \n",
       "2        3                 52             Grumpier Old Men (1995)    3.259615   \n",
       "3        5                 49  Father of the Bride Part II (1995)    3.071429   \n",
       "4        7                 54                      Sabrina (1995)    3.185185   \n",
       "\n",
       "                                            tag  imdbId  \n",
       "0                               pixar,pixar,fun  114709  \n",
       "1  fantasy,magic board game,Robin Williams,game  113497  \n",
       "2                                     moldy,old  113228  \n",
       "3                              pregnancy,remake  113041  \n",
       "4                                        remake  114319  "
      ]
     },
     "execution_count": 22,
     "metadata": {},
     "output_type": "execute_result"
    }
   ],
   "source": [
    "li=lin_df.drop(['tmdbId'],axis=1)\n",
    "df=pd.merge(df,li,on='movieId')\n",
    "df.head()"
   ]
  },
  {
   "cell_type": "code",
   "execution_count": 23,
   "id": "0f7ec011",
   "metadata": {},
   "outputs": [
    {
     "data": {
      "text/html": [
       "<div>\n",
       "<style scoped>\n",
       "    .dataframe tbody tr th:only-of-type {\n",
       "        vertical-align: middle;\n",
       "    }\n",
       "\n",
       "    .dataframe tbody tr th {\n",
       "        vertical-align: top;\n",
       "    }\n",
       "\n",
       "    .dataframe thead th {\n",
       "        text-align: right;\n",
       "    }\n",
       "</style>\n",
       "<table border=\"1\" class=\"dataframe\">\n",
       "  <thead>\n",
       "    <tr style=\"text-align: right;\">\n",
       "      <th></th>\n",
       "      <th>movieId</th>\n",
       "      <th>number of ratings</th>\n",
       "      <th>title</th>\n",
       "      <th>avg rating</th>\n",
       "      <th>tag</th>\n",
       "      <th>imdbId</th>\n",
       "    </tr>\n",
       "  </thead>\n",
       "  <tbody>\n",
       "    <tr>\n",
       "      <th>1444</th>\n",
       "      <td>91529</td>\n",
       "      <td>76</td>\n",
       "      <td>Dark Knight Rises, The (2012)</td>\n",
       "      <td>3.993421</td>\n",
       "      <td>Anne Hathaway,Christian Bale,Christopher Nolan...</td>\n",
       "      <td>1345836</td>\n",
       "    </tr>\n",
       "    <tr>\n",
       "      <th>1457</th>\n",
       "      <td>99114</td>\n",
       "      <td>71</td>\n",
       "      <td>Django Unchained (2012)</td>\n",
       "      <td>3.943662</td>\n",
       "      <td>action,Christoph Waltz,funny,good soundtrack,G...</td>\n",
       "      <td>1853728</td>\n",
       "    </tr>\n",
       "    <tr>\n",
       "      <th>1475</th>\n",
       "      <td>106782</td>\n",
       "      <td>54</td>\n",
       "      <td>Wolf of Wall Street, The (2013)</td>\n",
       "      <td>3.916667</td>\n",
       "      <td>drugs,Leonardo DiCaprio,Martin Scorsese,Stock ...</td>\n",
       "      <td>993846</td>\n",
       "    </tr>\n",
       "    <tr>\n",
       "      <th>1480</th>\n",
       "      <td>109487</td>\n",
       "      <td>73</td>\n",
       "      <td>Interstellar (2014)</td>\n",
       "      <td>3.993151</td>\n",
       "      <td>black hole,sci-fi,time-travel,Christopher Nola...</td>\n",
       "      <td>816692</td>\n",
       "    </tr>\n",
       "    <tr>\n",
       "      <th>1487</th>\n",
       "      <td>112852</td>\n",
       "      <td>59</td>\n",
       "      <td>Guardians of the Galaxy (2014)</td>\n",
       "      <td>4.050847</td>\n",
       "      <td>funny,Great Visuals,humorous,unlikely hero</td>\n",
       "      <td>2015381</td>\n",
       "    </tr>\n",
       "  </tbody>\n",
       "</table>\n",
       "</div>"
      ],
      "text/plain": [
       "      movieId  number of ratings                            title  avg rating  \\\n",
       "1444    91529                 76    Dark Knight Rises, The (2012)    3.993421   \n",
       "1457    99114                 71          Django Unchained (2012)    3.943662   \n",
       "1475   106782                 54  Wolf of Wall Street, The (2013)    3.916667   \n",
       "1480   109487                 73              Interstellar (2014)    3.993151   \n",
       "1487   112852                 59   Guardians of the Galaxy (2014)    4.050847   \n",
       "\n",
       "                                                    tag   imdbId  \n",
       "1444  Anne Hathaway,Christian Bale,Christopher Nolan...  1345836  \n",
       "1457  action,Christoph Waltz,funny,good soundtrack,G...  1853728  \n",
       "1475  drugs,Leonardo DiCaprio,Martin Scorsese,Stock ...   993846  \n",
       "1480  black hole,sci-fi,time-travel,Christopher Nola...   816692  \n",
       "1487         funny,Great Visuals,humorous,unlikely hero  2015381  "
      ]
     },
     "execution_count": 23,
     "metadata": {},
     "output_type": "execute_result"
    }
   ],
   "source": [
    "df=df[df['number of ratings']>50]\n",
    "df.tail()"
   ]
  },
  {
   "cell_type": "code",
   "execution_count": 26,
   "id": "80a646bd",
   "metadata": {},
   "outputs": [
    {
     "name": "stdout",
     "output_type": "stream",
     "text": [
      "movieId                                                            318\n",
      "number of ratings                                                  317\n",
      "title                                 Shawshank Redemption, The (1994)\n",
      "avg rating                                                    4.429022\n",
      "tag                  prison,Stephen King,wrongful imprisonment,Morg...\n",
      "imdbId                                                          111161\n",
      "Name: 83, dtype: object\n"
     ]
    }
   ],
   "source": [
    "x=df.sort_values(by='avg rating',ascending=False)\n",
    "print(x.iloc[0])"
   ]
  },
  {
   "cell_type": "code",
   "execution_count": 28,
   "id": "da272e69",
   "metadata": {},
   "outputs": [
    {
     "name": "stdout",
     "output_type": "stream",
     "text": [
      "     movieId  number of ratings                             title  avg rating  \\\n",
      "94       356                329               Forrest Gump (1994)    4.164134   \n",
      "83       318                317  Shawshank Redemption, The (1994)    4.429022   \n",
      "77       296                307               Pulp Fiction (1994)    4.197068   \n",
      "146      593                279  Silence of the Lambs, The (1991)    4.161290   \n",
      "577     2571                278                Matrix, The (1999)    4.192446   \n",
      "\n",
      "                                                   tag  imdbId  \n",
      "94   shrimp,Vietnam,bubba gump shrimp,lieutenant da...  109830  \n",
      "83   prison,Stephen King,wrongful imprisonment,Morg...  111161  \n",
      "77   good dialogue,great soundtrack,non-linear,cult...  110912  \n",
      "146  Hannibal Lector,disturbing,drama,gothic,psycho...  102926  \n",
      "577  martial arts,sci-fi,alternate universe,philoso...  133093  \n"
     ]
    }
   ],
   "source": [
    "x=df.sort_values(by='number of ratings',ascending=False)\n",
    "print(x.iloc[0:5])"
   ]
  },
  {
   "cell_type": "code",
   "execution_count": 30,
   "id": "722fb6ab",
   "metadata": {},
   "outputs": [
    {
     "name": "stdout",
     "output_type": "stream",
     "text": [
      "      movieId  number of ratings  \\\n",
      "577      2571                278   \n",
      "65        260                251   \n",
      "143       589                224   \n",
      "287      1196                211   \n",
      "1423    79132                143   \n",
      "\n",
      "                                                  title  avg rating  \\\n",
      "577                                  Matrix, The (1999)    4.192446   \n",
      "65            Star Wars: Episode IV - A New Hope (1977)    4.231076   \n",
      "143                   Terminator 2: Judgment Day (1991)    3.970982   \n",
      "287   Star Wars: Episode V - The Empire Strikes Back...    4.215640   \n",
      "1423                                   Inception (2010)    4.066434   \n",
      "\n",
      "                                                    tag   imdbId  \n",
      "577   martial arts,sci-fi,alternate universe,philoso...   133093  \n",
      "65    classic,space action,action,sci-fi,EPIC,great ...    76759  \n",
      "143   apocalypse,Arnold Schwarzenegger,nuclear war,s...   103064  \n",
      "287   I am your father,space,space opera,classic,Geo...    80684  \n",
      "1423  action,alternate reality,Leonardo DiCaprio,sci...  1375666  \n"
     ]
    }
   ],
   "source": [
    "sub=df[df['tag'].str.contains('sci-fi')]\n",
    "ss=sub.nlargest(5,'number of ratings')\n",
    "print(ss)"
   ]
  },
  {
   "cell_type": "code",
   "execution_count": 33,
   "id": "63577d79",
   "metadata": {},
   "outputs": [
    {
     "name": "stdout",
     "output_type": "stream",
     "text": [
      "      movieId  number of ratings                           title  avg rating  \\\n",
      "1487   112852                 59  Guardians of the Galaxy (2014)    4.050847   \n",
      "\n",
      "                                             tag   imdbId  \n",
      "1487  funny,Great Visuals,humorous,unlikely hero  2015381  \n"
     ]
    }
   ],
   "source": [
    "movId=df.nlargest(1,'imdbId')\n",
    "print(movId)"
   ]
  },
  {
   "cell_type": "code",
   "execution_count": 32,
   "id": "6ccc9a88",
   "metadata": {},
   "outputs": [
    {
     "name": "stdout",
     "output_type": "stream",
     "text": [
      "      movieId  number of ratings             title  avg rating  \\\n",
      "1423    79132                143  Inception (2010)    4.066434   \n",
      "\n",
      "                                                    tag   imdbId  \n",
      "1423  action,alternate reality,Leonardo DiCaprio,sci...  1375666  \n"
     ]
    }
   ],
   "source": [
    "sub=df[df['tag'].str.contains('sci-fi')]\n",
    "movId2=sub.nlargest(1,'imdbId')\n",
    "print(movId2)"
   ]
  }
 ],
 "metadata": {
  "kernelspec": {
   "display_name": "Python 3 (ipykernel)",
   "language": "python",
   "name": "python3"
  },
  "language_info": {
   "codemirror_mode": {
    "name": "ipython",
    "version": 3
   },
   "file_extension": ".py",
   "mimetype": "text/x-python",
   "name": "python",
   "nbconvert_exporter": "python",
   "pygments_lexer": "ipython3",
   "version": "3.9.13"
  }
 },
 "nbformat": 4,
 "nbformat_minor": 5
}
